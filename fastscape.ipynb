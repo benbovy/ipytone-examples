{
 "cells": [
  {
   "cell_type": "markdown",
   "metadata": {},
   "source": [
    "# Landscape evolution model, steady-state and beat effect\n",
    "\n",
    "See https://fastscape.org/"
   ]
  },
  {
   "cell_type": "code",
   "execution_count": null,
   "metadata": {},
   "outputs": [],
   "source": [
    "import ipytone\n",
    "import numpy as np\n",
    "import matplotlib.pyplot as plt\n",
    "import xsimlab as xs\n",
    "\n",
    "from fastscape.models import basic_model\n",
    "from ipyfastscape import TopoViz3d"
   ]
  },
  {
   "cell_type": "markdown",
   "metadata": {},
   "source": [
    "Let's run a 3 millions years \"classic\" landscape evolution simulation, where uniform block uplift competes with river channel erosion and hillslope erosion (diffusion)."
   ]
  },
  {
   "cell_type": "code",
   "execution_count": null,
   "metadata": {},
   "outputs": [],
   "source": [
    "in_ds = xs.create_setup(\n",
    "    model=basic_model,\n",
    "    clocks={\n",
    "        'clock': np.arange(0, 3e6 + 2e4, 2e4),\n",
    "        'time': np.arange(0, 3e6 + 2e4, 2e4),\n",
    "    },\n",
    "    master_clock='clock',\n",
    "    input_vars={\n",
    "        'grid__shape': [201, 201],\n",
    "        'grid__length': [2e5, 2e5],\n",
    "        'boundary__status': 'fixed_value',\n",
    "        'uplift__rate': 1e-3,\n",
    "        'spl': {\n",
    "            'k_coef': 1e-6,\n",
    "            'area_exp': 0.6,\n",
    "            'slope_exp': 1\n",
    "        },\n",
    "        'diffusion__diffusivity': 1e-3\n",
    "    },\n",
    "    output_vars={\n",
    "        'topography__elevation': 'time',\n",
    "        'erosion__rate': 'time',\n",
    "    }\n",
    ")"
   ]
  },
  {
   "cell_type": "code",
   "execution_count": null,
   "metadata": {},
   "outputs": [],
   "source": [
    "with xs.monitoring.ProgressBar():\n",
    "    out_ds = in_ds.xsimlab.run(model=basic_model)"
   ]
  },
  {
   "cell_type": "markdown",
   "metadata": {},
   "source": [
    "Let's compute spatially averaged total erosion rates."
   ]
  },
  {
   "cell_type": "code",
   "execution_count": null,
   "metadata": {},
   "outputs": [],
   "source": [
    "out_ds[\"erosion__rate_avg\"] = out_ds.erosion__rate.mean(('x', 'y'))"
   ]
  },
  {
   "cell_type": "markdown",
   "metadata": {},
   "source": [
    "Let's compare it with the uplift rate in a plot. The erosion rate should converge towards the uplift rate (steady-state landscape)."
   ]
  },
  {
   "cell_type": "code",
   "execution_count": null,
   "metadata": {},
   "outputs": [],
   "source": [
    "fig, ax = plt.subplots()\n",
    "\n",
    "out_ds.erosion__rate_avg.plot(ax=ax);\n",
    "plt.hlines([out_ds.uplift__rate], xmin=0, xmax=3e6, color=\"r\");"
   ]
  },
  {
   "cell_type": "markdown",
   "metadata": {},
   "source": [
    "## Sonification\n",
    "\n",
    "Create two oscillators: one for the uplift rate and another for the erosion rate. Those are slightly panned on the left and right channels."
   ]
  },
  {
   "cell_type": "code",
   "execution_count": null,
   "metadata": {},
   "outputs": [],
   "source": [
    "pan_uplift = ipytone.Panner(pan=-0.2)\n",
    "osc_uplift = ipytone.Oscillator(volume=-7).chain(pan_uplift, ipytone.destination)\n",
    "\n",
    "pan_erosion = ipytone.Panner(pan=0.2)\n",
    "osc_erosion = ipytone.Oscillator(volume=-7).chain(pan_erosion, ipytone.destination)"
   ]
  },
  {
   "cell_type": "markdown",
   "metadata": {},
   "source": [
    "Convert uplift / erosion rates into oscillator frequencies"
   ]
  },
  {
   "cell_type": "code",
   "execution_count": null,
   "metadata": {},
   "outputs": [],
   "source": [
    "rate2freq_factor = 1e6\n",
    "\n",
    "uplift_freq = float(out_ds.uplift__rate * rate2freq_factor)\n",
    "\n",
    "erosion_freq = out_ds.erosion__rate_avg * rate2freq_factor\n",
    "\n",
    "# avoid too low frequencies\n",
    "erosion_freq = np.where(erosion_freq < 50, 50, erosion_freq)\n",
    "\n",
    "# small offset to hear the beat interference\n",
    "erosion_freq += 20"
   ]
  },
  {
   "cell_type": "markdown",
   "metadata": {},
   "source": [
    "Initial frequencies"
   ]
  },
  {
   "cell_type": "code",
   "execution_count": null,
   "metadata": {},
   "outputs": [],
   "source": [
    "osc_uplift.frequency.value = uplift_freq\n",
    "osc_erosion.frequency.value = erosion_freq[0]"
   ]
  },
  {
   "cell_type": "markdown",
   "metadata": {},
   "source": [
    "## Terrain 3D visualization"
   ]
  },
  {
   "cell_type": "code",
   "execution_count": null,
   "metadata": {},
   "outputs": [],
   "source": [
    "app = TopoViz3d(out_ds, canvas_height=600, time_dim=\"time\")\n",
    "\n",
    "app.components['vertical_exaggeration'].set_factor(8)"
   ]
  },
  {
   "cell_type": "code",
   "execution_count": null,
   "metadata": {},
   "outputs": [],
   "source": [
    "def change_osc_freq(change):\n",
    "    osc_erosion.frequency.ramp_to(erosion_freq[change[\"new\"]], 0.1)\n",
    "                                               \n",
    "app.components['timestepper'].slider.observe(change_osc_freq, names='value')"
   ]
  },
  {
   "cell_type": "code",
   "execution_count": null,
   "metadata": {},
   "outputs": [],
   "source": [
    "app.show()"
   ]
  },
  {
   "cell_type": "code",
   "execution_count": null,
   "metadata": {},
   "outputs": [],
   "source": [
    "osc_erosion.start()\n",
    "osc_uplift.start()"
   ]
  },
  {
   "cell_type": "code",
   "execution_count": null,
   "metadata": {},
   "outputs": [],
   "source": [
    "osc_erosion.stop()\n",
    "osc_uplift.stop()"
   ]
  },
  {
   "cell_type": "code",
   "execution_count": null,
   "metadata": {},
   "outputs": [],
   "source": [
    "osc_erosion.dispose()\n",
    "osc_uplift.dispose()"
   ]
  },
  {
   "cell_type": "code",
   "execution_count": null,
   "metadata": {},
   "outputs": [],
   "source": []
  }
 ],
 "metadata": {
  "kernelspec": {
   "display_name": "Python 3",
   "language": "python",
   "name": "python3"
  },
  "language_info": {
   "codemirror_mode": {
    "name": "ipython",
    "version": 3
   },
   "file_extension": ".py",
   "mimetype": "text/x-python",
   "name": "python",
   "nbconvert_exporter": "python",
   "pygments_lexer": "ipython3",
   "version": "3.8.2"
  }
 },
 "nbformat": 4,
 "nbformat_minor": 4
}

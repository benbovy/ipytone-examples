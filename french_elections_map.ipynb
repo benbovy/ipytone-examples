{
 "cells": [
  {
   "cell_type": "markdown",
   "id": "f8616cee-fc22-461e-90ab-a3a6507c9d9c",
   "metadata": {},
   "source": [
    "# Election Results Sonification\n",
    "\n",
    "With the results of the last french presidential election (1st round)."
   ]
  },
  {
   "cell_type": "code",
   "execution_count": null,
   "id": "c9b20c91-8828-496c-8e4c-3c03f5b85655",
   "metadata": {},
   "outputs": [],
   "source": [
    "import ipytone\n",
    "import pandas as pd\n",
    "import geopandas as gpd\n",
    "import ipywidgets as widgets\n",
    "import ipyleaflet\n",
    "import xyzservices.providers as xyz\n",
    "from shapely.geometry import Point"
   ]
  },
  {
   "cell_type": "markdown",
   "id": "40b755c8-6db0-4699-85e8-9333b42da24a",
   "metadata": {},
   "source": [
    "## Read and prepare data"
   ]
  },
  {
   "cell_type": "code",
   "execution_count": null,
   "id": "fc08b3a4-8a3c-48b4-9fb9-ff6181f93a1b",
   "metadata": {},
   "outputs": [],
   "source": [
    "candidates = {\n",
    "    \"Arthaud\": 1,\n",
    "    \"Roussel\": 2,\n",
    "    \"Macron\": 3,\n",
    "    \"Lassalle\": 4,\n",
    "    \"LePen\": 5,\n",
    "    \"Zemmour\": 6,\n",
    "    \"Mélenchon\": 7,\n",
    "    \"Hidalgo\": 8,\n",
    "    \"Jadot\": 9,\n",
    "    \"Pécresse\": 10,\n",
    "    \"Poutou\": 11,\n",
    "    \"Dupont-Aignan\": 12,\n",
    "}"
   ]
  },
  {
   "cell_type": "markdown",
   "id": "45fe68de-9be2-4f94-a2dc-163fdf7d0e4d",
   "metadata": {},
   "source": [
    "Election results data.\n",
    "\n",
    "source: https://www.data.gouv.fr/fr/datasets/election-presidentielle-des-10-et-24-avril-2022-resultats-definitifs-du-1er-tour/#resources"
   ]
  },
  {
   "cell_type": "code",
   "execution_count": null,
   "id": "330e7ee2-ca54-4857-b695-422b958b775d",
   "metadata": {},
   "outputs": [],
   "source": [
    "df = pd.read_excel(\"data/resultats-par-niveau-subcom-t1-france-entiere.xlsx\")"
   ]
  },
  {
   "cell_type": "code",
   "execution_count": null,
   "id": "cbf35631-2468-414c-8927-d8b98ffae7e3",
   "metadata": {},
   "outputs": [],
   "source": [
    "n_candidates = len(candidates)\n",
    "vote_col1 = 24\n",
    "vote_col_gap = 7\n",
    "\n",
    "vote_cols = range(vote_col1, vote_col1 + n_candidates * vote_col_gap, vote_col_gap)"
   ]
  },
  {
   "cell_type": "code",
   "execution_count": null,
   "id": "ec8c78d8-d718-4e7e-bdfa-99b189f52ed8",
   "metadata": {},
   "outputs": [],
   "source": [
    "df_votes = df.iloc[:, list(vote_cols)]\n",
    "\n",
    "df_votes_perc = df_votes.div(df_votes.sum(axis=1), axis=0)\n",
    "\n",
    "insee = df[\"Code du département\"].astype(str) + df[\"Code de la commune\"].astype(str)\n",
    "df_votes_perc = df_votes_perc.set_index(insee)"
   ]
  },
  {
   "cell_type": "markdown",
   "id": "ef1667a3-03ce-4b7c-8b2c-e395234721b0",
   "metadata": {},
   "source": [
    "Localities admin borders\n",
    "\n",
    "source: https://www.data.gouv.fr/en/datasets/decoupage-administratif-communal-francais-issu-d-openstreetmap/"
   ]
  },
  {
   "cell_type": "code",
   "execution_count": null,
   "id": "48b04149-2a1b-4881-b95e-ca36921a54c1",
   "metadata": {},
   "outputs": [],
   "source": [
    "gdf_communes = (\n",
    "    gpd.read_file(\"data/communes-20220101-shp/communes-20220101.shp\")\n",
    "    .set_index(\"insee\")\n",
    ")"
   ]
  },
  {
   "cell_type": "markdown",
   "id": "6937fbca-0f2d-409c-93a2-add751c1d5f4",
   "metadata": {},
   "source": [
    "Merge the two datasets and compute the centroid of the localities."
   ]
  },
  {
   "cell_type": "code",
   "execution_count": null,
   "id": "070fda99-a5e0-48ef-8e4c-2d42ce558b66",
   "metadata": {},
   "outputs": [],
   "source": [
    "gdata = gdf_communes.join(df_votes_perc)"
   ]
  },
  {
   "cell_type": "code",
   "execution_count": null,
   "id": "28437cb6-cd54-4ae8-95a4-fa28b9622912",
   "metadata": {},
   "outputs": [],
   "source": [
    "# French local territories have limited extent so\n",
    "# using geographic CRS should be ok\n",
    "gdata.geometry = gdf_communes.centroid"
   ]
  },
  {
   "cell_type": "markdown",
   "id": "b3a897f5-51c7-4d42-aa19-fe03f138c26e",
   "metadata": {},
   "source": [
    "France admin borders (for display).\n",
    "\n",
    "source: https://ec.europa.eu/eurostat/web/gisco/geodata/reference-data/administrative-units-statistical-units/"
   ]
  },
  {
   "cell_type": "code",
   "execution_count": null,
   "id": "1c96cdfa-c011-426e-9624-dcb2bc069235",
   "metadata": {},
   "outputs": [],
   "source": [
    "nuts = gpd.read_file(\"data/NUTS_RG_01M_2021_4326.shp/NUTS_RG_01M_2021_4326.shp\")\n",
    "\n",
    "france = nuts.query(\"LEVL_CODE == 0 and NUTS_NAME == 'France'\")"
   ]
  },
  {
   "cell_type": "markdown",
   "id": "f14780ca-e9a3-4792-8023-e3b2b64ed120",
   "metadata": {},
   "source": [
    "## Sound setup\n",
    "\n",
    "Panning values for each candidate given their political side, from far left (-1) to far right (+1). This is \"somewhat\" arbitrary."
   ]
  },
  {
   "cell_type": "code",
   "execution_count": null,
   "id": "7e8ed76a-a1a4-4b36-b973-1cd5ae1e911a",
   "metadata": {},
   "outputs": [],
   "source": [
    "candidates_pan = {\n",
    "    \"Arthaud\": -0.9,\n",
    "    \"Roussel\": -0.7,\n",
    "    \"Macron\": 0.3,\n",
    "    \"Lassalle\": 0,\n",
    "    \"LePen\": 0.9,\n",
    "    \"Zemmour\": 0.9,\n",
    "    \"Mélenchon\": -0.7,\n",
    "    \"Hidalgo\": -0.4,\n",
    "    \"Jadot\": -0.3,\n",
    "    \"Pécresse\": 0.5,\n",
    "    \"Poutou\": -0.9,\n",
    "    \"Dupont-Aignan\": 0.9,\n",
    "}"
   ]
  },
  {
   "cell_type": "markdown",
   "id": "cea36c40-ed9b-4ecb-99d4-2d84e819db00",
   "metadata": {},
   "source": [
    "Prepare players with speech samples for each candidate."
   ]
  },
  {
   "cell_type": "code",
   "execution_count": null,
   "id": "a22b1000-8b46-42a5-ad2f-fbe3ec54e08e",
   "metadata": {},
   "outputs": [],
   "source": [
    "base_url = \"http://localhost:8888/files/Projects/ipytone/examples/data/election_candidates_wav/\"\n",
    "suffix = \".wav?_xsrf=2%7C1ced6df3%7C0514fa79e3ccfbcffefe3f864a0d4032%7C1654092692\"\n",
    "\n",
    "urls = {name: base_url + name + suffix for name in candidates}\n",
    "players = {}\n",
    "pans = {}\n",
    "gains = {}\n",
    "\n",
    "for name in candidates:\n",
    "    url = base_url + name + suffix\n",
    "    player = ipytone.Player(url, loop=True, fade_in=0.1, fade_out=0.1)\n",
    "    gain = ipytone.Gain(gain=0)\n",
    "    pan = ipytone.Panner(pan=candidates_pan[name])\n",
    "    player.chain(gain, pan, ipytone.destination)\n",
    "    \n",
    "    players[name] = player\n",
    "    pans[name] = pan\n",
    "    gains[name] = gain\n",
    "  "
   ]
  },
  {
   "cell_type": "markdown",
   "id": "3ba259e9-dc21-486b-8608-818299aca425",
   "metadata": {},
   "source": [
    "Start all players and adjust volumes"
   ]
  },
  {
   "cell_type": "code",
   "execution_count": null,
   "id": "35cee31b-9cb6-4429-9d9d-b6aa59db05b8",
   "metadata": {},
   "outputs": [],
   "source": [
    "for p in players.values():\n",
    "    p.start()\n",
    "    p.volume.value = 5"
   ]
  },
  {
   "cell_type": "markdown",
   "id": "cd236fd6-dcef-404c-9a24-f7e1338b7a7f",
   "metadata": {},
   "source": [
    "## Map, widgets and interactions\n",
    "\n",
    "Map widget"
   ]
  },
  {
   "cell_type": "code",
   "execution_count": null,
   "id": "9e440c04-eca6-4e88-8e0b-43a705e5c5bc",
   "metadata": {},
   "outputs": [],
   "source": [
    "m = ipyleaflet.Map(\n",
    "    zoom=6,\n",
    "    center=[46.90, 5.10],\n",
    "    basemap=xyz.CartoDB.Positron,\n",
    "    layout=widgets.Layout(height=\"600px\")\n",
    ")\n",
    "\n",
    "france_outline = ipyleaflet.GeoData(\n",
    "    geo_dataframe=france,\n",
    "    style={\n",
    "        'color': 'black',\n",
    "        'fillColor': '#ffffff',\n",
    "        'opacity': 0.2,\n",
    "        'weight': 2,\n",
    "        'fillOpacity': 0.2\n",
    "    },\n",
    "    name='Countries',\n",
    ")\n",
    "\n",
    "m.add_layer(france_outline)\n",
    "m.add_control(ipyleaflet.LayersControl())"
   ]
  },
  {
   "cell_type": "markdown",
   "id": "bd53ac67-2058-48f5-9b1b-6e42590370e8",
   "metadata": {},
   "source": [
    "Gain value progress widgets"
   ]
  },
  {
   "cell_type": "code",
   "execution_count": null,
   "id": "6793db64-c6a0-4cd8-abde-cca074263e8d",
   "metadata": {},
   "outputs": [],
   "source": [
    "commune_label = widgets.Label()\n",
    "\n",
    "levels = []\n",
    "\n",
    "for name in candidates:\n",
    "    label = widgets.Label(value=name, layout=widgets.Layout(width=\"100px\"))\n",
    "    level = widgets.FloatProgress(min=0, max=1, value=0)\n",
    "    widgets.jsdlink((gains[name].gain, \"value\"), (level, \"value\"))\n",
    "    levels.append(widgets.HBox([label, level]))\n",
    "\n",
    "levels_box = widgets.VBox(\n",
    "    [commune_label] + levels,\n",
    "    layout=widgets.Layout(padding=\"20px\"),\n",
    ")\n",
    "\n",
    "levels_control = ipyleaflet.WidgetControl(\n",
    "    widget=levels_box, position='topright'\n",
    ")\n",
    "\n",
    "m.add_control(levels_control)"
   ]
  },
  {
   "cell_type": "markdown",
   "id": "70ab4941-309f-4a30-b1cb-e9ef98b80670",
   "metadata": {},
   "source": [
    "Map interaction (cursor position will adjust player gains)."
   ]
  },
  {
   "cell_type": "code",
   "execution_count": null,
   "id": "a395b238-9e73-4f06-8c17-7e9cee6fef1c",
   "metadata": {},
   "outputs": [],
   "source": [
    "col_offset = 3\n",
    "\n",
    "def update_gains(**kwargs):\n",
    "    if kwargs.get('type') == 'mousemove':\n",
    "        lat, lon = kwargs.get('coordinates')\n",
    "        point = Point(lon, lat)\n",
    "        \n",
    "        \n",
    "        if not france.contains(point).squeeze():\n",
    "            for gain in gains.values():\n",
    "                gain.gain.value = 0.0\n",
    "            commune_label.value = \"Locality: none\"\n",
    "        else:\n",
    "            _, idx = gdata.sindex.nearest(point)\n",
    "        \n",
    "            slocality = gdata.iloc[idx.item()]\n",
    "            \n",
    "            commune_label.value = f\"Locality: {slocality.nom}\"\n",
    "            \n",
    "            for name, idx in candidates.items():\n",
    "                col = idx + col_offset\n",
    "                new_value = slocality[col]\n",
    "                gains[name].gain.value = new_value\n",
    "\n",
    "\n",
    "m.on_interaction(update_gains)"
   ]
  },
  {
   "cell_type": "code",
   "execution_count": null,
   "id": "779dc2a1-bcae-44b5-8483-93d11310b25a",
   "metadata": {},
   "outputs": [],
   "source": [
    "m"
   ]
  },
  {
   "cell_type": "markdown",
   "id": "8e5fc8ee-829e-4c32-95e4-a45e07604b66",
   "metadata": {},
   "source": [
    "## Clean-up"
   ]
  },
  {
   "cell_type": "code",
   "execution_count": null,
   "id": "98f9e574-fda6-4d0c-be6a-52c914725b79",
   "metadata": {},
   "outputs": [],
   "source": [
    "for p in players.values():\n",
    "    p.stop()"
   ]
  },
  {
   "cell_type": "code",
   "execution_count": null,
   "id": "f2b3b24f-68d0-4647-bd38-e872c2e254dd",
   "metadata": {},
   "outputs": [],
   "source": [
    "for p in players.values():\n",
    "    p.dispose()\n",
    "    \n",
    "for g in gains.values():\n",
    "    g.dispose()\n",
    "    \n",
    "for p in pans.values():\n",
    "    p.dispose()"
   ]
  },
  {
   "cell_type": "code",
   "execution_count": null,
   "id": "b5dfd7bd-5caf-4e67-bbc6-14df232aa032",
   "metadata": {},
   "outputs": [],
   "source": []
  }
 ],
 "metadata": {
  "kernelspec": {
   "display_name": "Python 3",
   "language": "python",
   "name": "python3"
  },
  "language_info": {
   "codemirror_mode": {
    "name": "ipython",
    "version": 3
   },
   "file_extension": ".py",
   "mimetype": "text/x-python",
   "name": "python",
   "nbconvert_exporter": "python",
   "pygments_lexer": "ipython3",
   "version": "3.8.13"
  }
 },
 "nbformat": 4,
 "nbformat_minor": 5
}

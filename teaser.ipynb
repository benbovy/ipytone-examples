{
 "cells": [
  {
   "cell_type": "markdown",
   "id": "9e480fe8-40cb-4e99-8576-e0350c851f4b",
   "metadata": {},
   "source": [
    "# Sonification of seismic data\n",
    "\n",
    "Small track loop (drone + beats) made exclusively from seismic data.\n",
    "\n",
    "See also https://jbrussell.github.io/eilive2020/part2a_sonification/"
   ]
  },
  {
   "cell_type": "code",
   "execution_count": null,
   "id": "0dffefd8-f384-4126-a406-75fd5c054737",
   "metadata": {},
   "outputs": [],
   "source": [
    "import ipytone\n",
    "import ipygany\n",
    "import numpy as np\n",
    "import matplotlib.pyplot as plt\n",
    "import pyvista as pv\n",
    "import pyvista.examples as pv_examples\n",
    "from obspy import read\n",
    "from obspy.signal.trigger import classic_sta_lta"
   ]
  },
  {
   "cell_type": "code",
   "execution_count": null,
   "id": "a6836ea3-ed08-42b9-a599-6673c68772c2",
   "metadata": {},
   "outputs": [],
   "source": [
    "t = ipytone.transport"
   ]
  },
  {
   "cell_type": "markdown",
   "id": "918ff52a-ae70-46e1-9ae8-13b6a1edb5cb",
   "metadata": {
    "tags": []
   },
   "source": [
    "## Drone sound"
   ]
  },
  {
   "cell_type": "code",
   "execution_count": null,
   "id": "bb8ba6d0-ee47-4b7e-aa8a-e905dcabb6ca",
   "metadata": {},
   "outputs": [],
   "source": [
    "st = read(\"https://examples.obspy.org/BW.KW1..EHZ.D.2011.037\")\n",
    "data = st.select(id=\"BW.KW1..EHZ\")[0].data\n",
    "\n",
    "data_norm = data / (data.max() - data.min())\n",
    "drone_sample = data_norm[0:300_000] + 0.25 * 2"
   ]
  },
  {
   "cell_type": "code",
   "execution_count": null,
   "id": "7732aa92-ac10-4ef4-b659-91c976a9ff40",
   "metadata": {},
   "outputs": [],
   "source": [
    "plt.plot(drone_sample);"
   ]
  },
  {
   "cell_type": "code",
   "execution_count": null,
   "id": "dc2dbf82-c472-46ef-bad1-b3b2472e6e0c",
   "metadata": {},
   "outputs": [],
   "source": [
    "drone_buffer = ipytone.AudioBuffer(drone_sample)"
   ]
  },
  {
   "cell_type": "code",
   "execution_count": null,
   "id": "f1bb1058-2861-4240-9d6e-f80172493ee5",
   "metadata": {},
   "outputs": [],
   "source": [
    "drone_player = ipytone.Player(drone_buffer, volume=-2)\n",
    "drone_filter = ipytone.Filter(frequency=8000)\n",
    "drone_comp = ipytone.Compressor()\n",
    "drone_delay = ipytone.PingPongDelay()\n",
    "\n",
    "drone_player.chain(\n",
    "    drone_comp, drone_filter, drone_delay, ipytone.destination\n",
    ")"
   ]
  },
  {
   "cell_type": "code",
   "execution_count": null,
   "id": "6f6d1b84-6490-4cf5-bf4e-384edc243e4a",
   "metadata": {},
   "outputs": [],
   "source": [
    "drone_player.fade_in = 0.02\n",
    "drone_player.fade_out = 0.5\n",
    "drone_player.loop = True\n",
    "drone_player.playback_rate = 0.08\n",
    "\n",
    "drone_comp.ratio.value = 20\n",
    "drone_filter.frequency.value = 2000\n",
    "drone_filter.rolloff = -24\n",
    "drone_delay.delay_time.value = 2\n",
    "drone_delay.feedback.value = 0.2"
   ]
  },
  {
   "cell_type": "markdown",
   "id": "3c848bf3-6903-472b-8a5e-00bcf086f3e1",
   "metadata": {
    "tags": []
   },
   "source": [
    "## Beat"
   ]
  },
  {
   "cell_type": "code",
   "execution_count": null,
   "id": "9dc5aadd-fc90-4e97-b9ca-104adf24814b",
   "metadata": {},
   "outputs": [],
   "source": [
    "trace = read(\"https://examples.obspy.org/ev0_6.a01.gse2\")[0]\n",
    "\n",
    "# auto find trigger\n",
    "df = trace.stats.sampling_rate\n",
    "cft = classic_sta_lta(trace.data, int(5 * df), int(10 * df))\n",
    "\n",
    "raw_sample = trace.data[np.argmax(cft > 1.75):]\n",
    "drum_sample = raw_sample / (raw_sample.max() - raw_sample.min()) * 1.5"
   ]
  },
  {
   "cell_type": "code",
   "execution_count": null,
   "id": "eb4f204a-d0b5-4c77-94e3-e5096a62f7c2",
   "metadata": {},
   "outputs": [],
   "source": [
    "plt.plot(drum_sample);"
   ]
  },
  {
   "cell_type": "code",
   "execution_count": null,
   "id": "f4d21748-244e-4480-be10-2d76f7db95a2",
   "metadata": {},
   "outputs": [],
   "source": [
    "drum_buffer = ipytone.AudioBuffer(drum_sample)"
   ]
  },
  {
   "cell_type": "code",
   "execution_count": null,
   "id": "81bcd604-583f-4e12-863d-7bc7524a67c8",
   "metadata": {},
   "outputs": [],
   "source": [
    "comp = ipytone.Compressor()\n",
    "delay = ipytone.PingPongDelay()\n",
    "reverb = ipytone.Reverb()\n",
    "drums = ipytone.Sampler({\"A5\": drum_buffer}, volume=-3)\n",
    "drums.chain(comp, delay, reverb, ipytone.destination)"
   ]
  },
  {
   "cell_type": "code",
   "execution_count": null,
   "id": "d7dd3805-545b-456c-a880-734e20a114ff",
   "metadata": {},
   "outputs": [],
   "source": [
    "drums.attack = 0.02\n",
    "drums.release = 0.8\n",
    "\n",
    "comp.attack.value = 0.3\n",
    "comp.ratio.value = 5\n",
    "\n",
    "delay.wet.value = 0.1\n",
    "\n",
    "reverb.decay = 4\n",
    "reverb.wet.value = 0.3"
   ]
  },
  {
   "cell_type": "code",
   "execution_count": null,
   "id": "6217db88-9667-4430-8b9b-33b8c265ef30",
   "metadata": {},
   "outputs": [],
   "source": [
    "def clb(time, note):\n",
    "    drums.trigger_attack_release(note.note, 0.1, time=time, velocity=note.velocity)"
   ]
  },
  {
   "cell_type": "code",
   "execution_count": null,
   "id": "7f7a64e1-338e-4b28-9dfa-c237cac75aea",
   "metadata": {},
   "outputs": [],
   "source": [
    "# kick / snare\n",
    "beat_notes = [\n",
    "    {\"time\": \"0:0:0\", \"note\": \"E3\", \"velocity\": 1},\n",
    "    {\"time\": \"0:2:0\", \"note\": \"B5\", \"velocity\": 1},\n",
    "    {\"time\": \"0:3:2\", \"note\": \"E3\", \"velocity\": 0.3},\n",
    "    {\"time\": \"1:0:0\", \"note\": \"E3\", \"velocity\": 1},\n",
    "    {\"time\": \"1:0:2\", \"note\": \"B5\", \"velocity\": 1},\n",
    "    {\"time\": \"1:2:0\", \"note\": \"B5\", \"velocity\": 1},\n",
    "    {\"time\": \"1:3:2\", \"note\": \"E3\", \"velocity\": 0.2},\n",
    "]\n",
    "\n",
    "# hi-hats\n",
    "beat_notes += [\n",
    "    {\"time\": f\"{i}:{j}:{k}\", \"note\": 1e4, \"velocity\": 1 - k / 4}\n",
    "    for k in [0, 2]\n",
    "    for j in range(4)\n",
    "    for i in range(2)\n",
    "]"
   ]
  },
  {
   "cell_type": "code",
   "execution_count": null,
   "id": "c653b308-c794-457d-ae87-d156b0190ab7",
   "metadata": {},
   "outputs": [],
   "source": [
    "beat_part = ipytone.Part(callback=clb, events=beat_notes)"
   ]
  },
  {
   "cell_type": "code",
   "execution_count": null,
   "id": "b124de9d-dfdf-4d14-aa1f-5579f3510bd2",
   "metadata": {},
   "outputs": [],
   "source": [
    "beat_part.loop = True\n",
    "beat_part.loop_start = 0\n",
    "beat_part.loop_end = \"2m\""
   ]
  },
  {
   "cell_type": "markdown",
   "id": "ab80e10e-09b8-4b7c-bae5-0a49e56426be",
   "metadata": {},
   "source": [
    "## Bass synth"
   ]
  },
  {
   "cell_type": "code",
   "execution_count": null,
   "id": "328f3c03-8114-4a3c-8807-397d3c774ff3",
   "metadata": {},
   "outputs": [],
   "source": [
    "synth1 = ipytone.MonoSynth(volume=-4).to_destination()\n",
    "synth2 = ipytone.MonoSynth(volume=-7).to_destination()"
   ]
  },
  {
   "cell_type": "code",
   "execution_count": null,
   "id": "0136b5ed-9946-46c7-b681-7a124f00cacd",
   "metadata": {},
   "outputs": [],
   "source": [
    "synth1.oscillator.type = \"sine\"\n",
    "synth1.envelope.attack = 0.02\n",
    "\n",
    "synth2.oscillator.type =  \"fatsawtooth\"\n",
    "synth2.filter_envelope.attack = 6\n",
    "synth2.filter.q.value = 4\n",
    "synth2.filter_envelope.sustain = 0.2"
   ]
  },
  {
   "cell_type": "code",
   "execution_count": null,
   "id": "a8a2a638-96ba-40d5-872a-7e11786fc7d8",
   "metadata": {},
   "outputs": [],
   "source": [
    "def synth_clb(time, note):\n",
    "    synth1.trigger_attack_release(note.note, note.duration, time=time)\n",
    "    synth2.trigger_attack_release(note.note, note.duration, time=time)"
   ]
  },
  {
   "cell_type": "code",
   "execution_count": null,
   "id": "6810b480-f72d-4083-83fb-26e043c45568",
   "metadata": {},
   "outputs": [],
   "source": [
    "synth_part = ipytone.Part(\n",
    "    callback=synth_clb,\n",
    "    events=[\n",
    "        {\"time\": \"0:0:0\", \"note\": \"G1\", \"duration\": \"1m\"},\n",
    "        {\"time\": \"1:0:0\", \"note\": \"B#1\", \"duration\": \"8n\"},\n",
    "        {\"time\": \"1:0:2\", \"note\": \"A#1\", \"duration\": \"2n\"},\n",
    "        {\"time\": \"1:3:2\", \"note\": \"B#1\", \"duration\": \"8n\"},\n",
    "        {\"time\": \"2:0:0\", \"note\": \"D#1\", \"duration\": \"1m\"},\n",
    "        {\"time\": \"3:0:0\", \"note\": \"G1\", \"duration\": \"2n\"},\n",
    "        {\"time\": \"3:2:0\", \"note\": \"E#1\", \"duration\": \"2n\"},\n",
    "    ]\n",
    ")"
   ]
  },
  {
   "cell_type": "code",
   "execution_count": null,
   "id": "a1150ab7-c4c2-452c-8ef6-da857cef6bed",
   "metadata": {},
   "outputs": [],
   "source": [
    "synth_part.loop = True\n",
    "synth_part.loop_start = 0\n",
    "synth_part.loop_end = \"4m\""
   ]
  },
  {
   "cell_type": "markdown",
   "id": "c24ad8d5-52ca-42bf-b16e-b4b6cdd4fca1",
   "metadata": {},
   "source": [
    "## Pluck Synth"
   ]
  },
  {
   "cell_type": "code",
   "execution_count": null,
   "id": "0c754d22-17c3-4a61-890d-1df79fa36c32",
   "metadata": {},
   "outputs": [],
   "source": [
    "vibrato = ipytone.Vibrato()\n",
    "synth3 = ipytone.PluckSynth(volume=-19)\n",
    "synth3.chain(vibrato, reverb)\n",
    "lfo = ipytone.LFO(min=10, max=20).start()\n",
    "lfo.connect(vibrato.frequency)"
   ]
  },
  {
   "cell_type": "code",
   "execution_count": null,
   "id": "f5a78f99-7f96-4fcc-aa9a-e70fe9d6a76f",
   "metadata": {},
   "outputs": [],
   "source": [
    "vibrato.wet.value = 0.8\n",
    "synth3.resonance = 0.75\n",
    "synth3.dampening = 3000\n",
    "synth3.attack_noise = 6"
   ]
  },
  {
   "cell_type": "code",
   "execution_count": null,
   "id": "91374db2-192f-4717-b512-a762ca14506f",
   "metadata": {},
   "outputs": [],
   "source": [
    "def synth3_clb(time, value):\n",
    "    synth3.trigger_attack_release(value, 0.1, time=time)"
   ]
  },
  {
   "cell_type": "code",
   "execution_count": null,
   "id": "95b5f3b7-c960-433a-9de0-812f63731950",
   "metadata": {},
   "outputs": [],
   "source": [
    "seq = ipytone.Sequence(\n",
    "    callback=synth3_clb,\n",
    "    events=[[\"G#3\", \"G#1\"], \"G#3\", \"G#3\", \"G#3\", \"G#3\", \"G#3\", \"G#3\", [\"G#3\", \"G#4\"]],\n",
    "    subdivision=\"4n\",\n",
    ")"
   ]
  },
  {
   "cell_type": "markdown",
   "id": "e46568b9-f31b-4156-9cb2-52c5afe68928",
   "metadata": {},
   "source": [
    "## Animated 3D topography (just for fun)\n",
    "\n",
    "Topography exagerration factor will follow the beats."
   ]
  },
  {
   "cell_type": "code",
   "execution_count": null,
   "id": "f599755f-3b3a-4379-beee-31484324bd9d",
   "metadata": {},
   "outputs": [],
   "source": [
    "pvmesh = pv_examples.download_topo_land()\n",
    "ugrid = pvmesh.cast_to_unstructured_grid()\n",
    "mesh = ipygany.PolyMesh.from_vtk(ugrid)\n",
    "\n",
    "pvsphere = pv.Sphere(radius=0.999)\n",
    "usphere = pvsphere.cast_to_unstructured_grid()\n",
    "sphere = ipygany.PolyMesh.from_vtk(usphere)\n",
    "\n",
    "colored_mesh = ipygany.IsoColor(\n",
    "    mesh, min=0.0, max=6527.0,\n",
    "    colormap=ipygany.colormaps.Oranges\n",
    ")\n",
    "warped_mesh = ipygany.WarpByScalar(\n",
    "    colored_mesh, input='altitude', factor=5e-5\n",
    ")\n",
    "\n",
    "scene = ipygany.Scene([sphere, warped_mesh])"
   ]
  },
  {
   "cell_type": "code",
   "execution_count": null,
   "id": "60db2364-d975-4782-98ee-e7791a14865e",
   "metadata": {},
   "outputs": [],
   "source": [
    "meter = ipytone.DCMeter()\n",
    "follower_node = ipytone.Follower()\n",
    "add_node = ipytone.Add(addend=1e-4)\n",
    "mult_node = ipytone.Multiply(factor=6e-4)\n",
    "drums.chain(follower_node, add_node, mult_node, meter)"
   ]
  },
  {
   "cell_type": "code",
   "execution_count": null,
   "id": "9477aedf-0c69-40d0-87ee-c1622981e507",
   "metadata": {},
   "outputs": [],
   "source": [
    "follower_node.smoothing = 1.4"
   ]
  },
  {
   "cell_type": "code",
   "execution_count": null,
   "id": "1239b7d1-6cad-4b8a-bb9c-b362c19616eb",
   "metadata": {},
   "outputs": [],
   "source": [
    "link = meter.schedule_jsdlink((warped_mesh, \"factor\"), transport=True)"
   ]
  },
  {
   "cell_type": "code",
   "execution_count": null,
   "id": "d53ac290-73db-42fd-bd1e-50cd091c8eff",
   "metadata": {},
   "outputs": [],
   "source": [
    "meter2 = ipytone.DCMeter()\n",
    "mult2_node = ipytone.Multiply(factor=10)\n",
    "synth1.filter_envelope.chain(mult2_node, meter2)"
   ]
  },
  {
   "cell_type": "code",
   "execution_count": null,
   "id": "2b7cf603-3283-4312-ab68-7fcf8c53f907",
   "metadata": {},
   "outputs": [],
   "source": [
    "link2 = meter2.schedule_jsdlink((colored_mesh, \"max\"), transport=True)"
   ]
  },
  {
   "cell_type": "markdown",
   "id": "e7140672-9df3-4f8b-bcad-3bee8bf9b20d",
   "metadata": {},
   "source": [
    "## Play!"
   ]
  },
  {
   "cell_type": "code",
   "execution_count": null,
   "id": "dd051b60-79fa-4506-afd0-969faa5fa476",
   "metadata": {},
   "outputs": [],
   "source": [
    "ipytone.destination.volume.value = -3"
   ]
  },
  {
   "cell_type": "code",
   "execution_count": null,
   "id": "1b0590e5-7720-46e3-b55c-8bcd15e5698b",
   "metadata": {},
   "outputs": [],
   "source": [
    "drone_player.start()"
   ]
  },
  {
   "cell_type": "code",
   "execution_count": null,
   "id": "83be8505-ce37-4fe6-8af6-b43a6a348129",
   "metadata": {},
   "outputs": [],
   "source": [
    "scene"
   ]
  },
  {
   "cell_type": "code",
   "execution_count": null,
   "id": "29836da1-f41a-4f5a-9fc4-323210ac5e03",
   "metadata": {},
   "outputs": [],
   "source": [
    "t.start()\n",
    "beat_part.start(0)\n",
    "synth_part.start(\"4m\")\n",
    "seq.start(\"12m\")"
   ]
  },
  {
   "cell_type": "code",
   "execution_count": null,
   "id": "a1e7157d-43d9-444f-8241-284efe73de63",
   "metadata": {},
   "outputs": [],
   "source": [
    "t.stop()\n",
    "beat_part.stop()\n",
    "synth_part.stop()\n",
    "seq.stop()"
   ]
  },
  {
   "cell_type": "code",
   "execution_count": null,
   "id": "309697f3-8556-43e6-9c1c-3a33badda350",
   "metadata": {},
   "outputs": [],
   "source": [
    "drone_player.stop()"
   ]
  },
  {
   "cell_type": "markdown",
   "id": "2fa4d909-3848-4ddf-b81d-78e88999ede4",
   "metadata": {},
   "source": [
    "## Clean-up"
   ]
  },
  {
   "cell_type": "code",
   "execution_count": null,
   "id": "f49d9181-4234-4169-9e17-3169360581cb",
   "metadata": {},
   "outputs": [],
   "source": [
    "link.unlink()\n",
    "link2.unlink()"
   ]
  },
  {
   "cell_type": "code",
   "execution_count": null,
   "id": "87ac82d8-699c-4f9e-843f-1195117080fe",
   "metadata": {},
   "outputs": [],
   "source": [
    "t.cancel()"
   ]
  },
  {
   "cell_type": "code",
   "execution_count": null,
   "id": "dd599f46-734b-454c-80b4-5408565f361f",
   "metadata": {},
   "outputs": [],
   "source": [
    "beat_part.dispose()\n",
    "synth_part.dispose()\n",
    "seq.dispose()"
   ]
  },
  {
   "cell_type": "code",
   "execution_count": null,
   "id": "d5177117-b403-4502-95f0-92f1b49e27fa",
   "metadata": {},
   "outputs": [],
   "source": [
    "drone_player.dispose()\n",
    "drone_comp.dispose()\n",
    "drone_filter.dispose()\n",
    "drone_delay.dispose()\n",
    "drums.dispose()\n",
    "comp.dispose()\n",
    "delay.dispose()\n",
    "reverb.dispose()\n",
    "meter.dispose()\n",
    "follower_node.dispose()\n",
    "mult_node.dispose()\n",
    "vibrato.dispose()\n",
    "lfo.dispose()\n",
    "synth1.dispose()\n",
    "synth2.dispose()\n",
    "synth3.dispose()"
   ]
  },
  {
   "cell_type": "code",
   "execution_count": null,
   "id": "af9eb336-63e2-42e9-9daf-789e2583fa4f",
   "metadata": {},
   "outputs": [],
   "source": []
  }
 ],
 "metadata": {
  "kernelspec": {
   "display_name": "Python 3",
   "language": "python",
   "name": "python3"
  },
  "language_info": {
   "codemirror_mode": {
    "name": "ipython",
    "version": 3
   },
   "file_extension": ".py",
   "mimetype": "text/x-python",
   "name": "python",
   "nbconvert_exporter": "python",
   "pygments_lexer": "ipython3",
   "version": "3.8.2"
  }
 },
 "nbformat": 4,
 "nbformat_minor": 5
}

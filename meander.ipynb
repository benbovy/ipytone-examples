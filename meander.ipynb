{
 "cells": [
  {
   "cell_type": "markdown",
   "id": "3735330b-232c-4ea4-b4a6-d72e7b0b9179",
   "metadata": {},
   "source": [
    "# River meandering sonification\n",
    "\n",
    "Sonification of outputs from a simple numerical model of river meandering.\n",
    "\n",
    "See https://github.com/zsylvester/meanderpy"
   ]
  },
  {
   "cell_type": "code",
   "execution_count": null,
   "id": "6f046950-894f-4567-b6b9-35581f058470",
   "metadata": {},
   "outputs": [],
   "source": [
    "import ipytone\n",
    "import ipycanvas\n",
    "import meanderpy as mp\n",
    "import numpy as np\n",
    "import matplotlib.pyplot as plt"
   ]
  },
  {
   "cell_type": "code",
   "execution_count": null,
   "id": "e5a89c72-493f-435f-bf09-0ebdf6ff5e80",
   "metadata": {},
   "outputs": [],
   "source": [
    "t = ipytone.transport"
   ]
  },
  {
   "cell_type": "markdown",
   "id": "01da1b12-9e6a-4b45-87d9-43c5b077fe83",
   "metadata": {},
   "source": [
    "## Run model"
   ]
  },
  {
   "cell_type": "code",
   "execution_count": null,
   "id": "e26d6cdc-0498-400b-8478-6710d7b827d9",
   "metadata": {},
   "outputs": [],
   "source": [
    "nit = 10000                   # number of iterations\n",
    "W = 200.0                    # channel width (m)\n",
    "D = 6.0                      # channel depth (m)\n",
    "depths = D * np.ones((nit,))  # channel depths for different iterations  \n",
    "pad = 100                    # padding (number of nodepoints along centerline)\n",
    "deltas = 50.0                # sampling distance along centerline           \n",
    "Cfs = 0.011 * np.ones((nit,)) # dimensionless Chezy friction factor\n",
    "crdist = 2 * W               # threshold distance at which cutoffs occur\n",
    "kl = 60.0/(365*24*60*60.0)   # migration rate constant (m/s)\n",
    "kv =  1.0e-12               # vertical slope-dependent erosion rate constant (m/s)\n",
    "dt = 2*0.05*365*24*60*60.0     # time step (s)\n",
    "dens = 1000                  # density of water (kg/m3)\n",
    "saved_ts = 20                # which time steps will be saved\n",
    "n_bends = 33                 # approximate number of bends you want to model\n",
    "Sl = 0.0                     # initial slope (matters more for submarine channels than rivers)\n",
    "t1 = 500                    # time step when incision starts\n",
    "t2 = 500                    # time step when lateral migration starts\n",
    "t3 = 1200                   # time step when aggradation starts\n",
    "aggr_factor = 2e-9         # aggradation factor (m/s, about 0.18 m/year, it kicks in after t3)"
   ]
  },
  {
   "cell_type": "code",
   "execution_count": null,
   "id": "0521db4a-b96d-41c1-a550-83bbc0d08471",
   "metadata": {},
   "outputs": [],
   "source": [
    "ch = mp.generate_initial_channel(W, D, Sl, deltas, pad, n_bends)\n",
    "chb = mp.ChannelBelt(\n",
    "    channels=[ch],\n",
    "    cutoffs=[],\n",
    "    cl_times=[0.0],\n",
    "    cutoff_times=[]\n",
    ")"
   ]
  },
  {
   "cell_type": "code",
   "execution_count": null,
   "id": "dbbe53ef-9885-4791-b177-41190a294581",
   "metadata": {},
   "outputs": [],
   "source": [
    "chb.migrate(nit,saved_ts,deltas,pad,crdist,depths,Cfs,kl,kv,dt,dens,t1,t2,t3,aggr_factor)"
   ]
  },
  {
   "cell_type": "markdown",
   "id": "e4e2b1ee-6887-445f-ba0d-5b95431d3044",
   "metadata": {},
   "source": [
    "### Post-processing and utilities\n",
    "\n",
    "Get domain / time extent"
   ]
  },
  {
   "cell_type": "code",
   "execution_count": null,
   "id": "76a53625-bd0c-4884-8069-a173b290559f",
   "metadata": {},
   "outputs": [],
   "source": [
    "xmin = np.min(chb.channels[0].x)\n",
    "xmax = np.max(chb.channels[0].x)\n",
    "ymax = 0\n",
    "for i in range(len(chb.channels)):\n",
    "    ymax = max(ymax, np.max(np.abs(chb.channels[i].y)))\n",
    "ymax = ymax+2*chb.channels[0].W # add a bit of space on top and bottom\n",
    "ymin = -1*ymax"
   ]
  },
  {
   "cell_type": "code",
   "execution_count": null,
   "id": "c74417ed-b104-4ae0-9043-807f2c32f522",
   "metadata": {},
   "outputs": [],
   "source": [
    "ct_times = np.array(chb.cutoff_times)\n",
    "cl_times = np.array(chb.cl_times)"
   ]
  },
  {
   "cell_type": "markdown",
   "id": "768df2f6-bc70-4124-8a5c-419918216b26",
   "metadata": {},
   "source": [
    "Compute channel and cutoff sinuosity"
   ]
  },
  {
   "cell_type": "code",
   "execution_count": null,
   "id": "07f6cffc-0e8d-4334-a49d-f8169c60efbf",
   "metadata": {},
   "outputs": [],
   "source": [
    "def compute_sinuosity(channel, cutoff=False, outliers=False):\n",
    "    x = channel.x\n",
    "    y = channel.y\n",
    "    z = channel.z\n",
    "    \n",
    "    if cutoff:\n",
    "        x = x[0]\n",
    "        y = y[0]\n",
    "        z = z[0]\n",
    "\n",
    "    dx, dy, dz, ds, s = mp.compute_derivatives(x,y,z)\n",
    "\n",
    "    sinuosity = s[-1] / (x[-1] - x[0])\n",
    "    \n",
    "    if outliers:\n",
    "        sinuosity = min(sinuosity, 40)\n",
    "        sinuosity = max(sinuosity, 2)\n",
    "    \n",
    "    return sinuosity"
   ]
  },
  {
   "cell_type": "code",
   "execution_count": null,
   "id": "f61859bb-5b73-4514-9015-6f544831f0da",
   "metadata": {},
   "outputs": [],
   "source": [
    "sinuosities = []\n",
    "y_mean = []\n",
    "\n",
    "for channel in chb.channels:\n",
    "    sinuosities.append(compute_sinuosity(channel))\n",
    "    y_mean.append(channel.y.mean())\n"
   ]
  },
  {
   "cell_type": "code",
   "execution_count": null,
   "id": "aa95c1a9-fccc-4c7b-a61f-24acc3c05d57",
   "metadata": {},
   "outputs": [],
   "source": [
    "ct_sinuosities = []\n",
    "ct_x_mean = []\n",
    "\n",
    "\n",
    "for cutoff in chb.cutoffs:\n",
    "    ct_sinuosities.append(\n",
    "        compute_sinuosity(cutoff, cutoff=True, outliers=True)\n",
    "    )\n",
    "    ct_x_mean.append(cutoff.x[0].mean())\n"
   ]
  },
  {
   "cell_type": "markdown",
   "id": "3498da28-be64-4eb5-a57c-6a0b1037271f",
   "metadata": {},
   "source": [
    "## Setup canvas (drawing)"
   ]
  },
  {
   "cell_type": "code",
   "execution_count": null,
   "id": "6b80f262-c803-4982-a1c0-6875ed3e4653",
   "metadata": {},
   "outputs": [],
   "source": [
    "def get_points(channel, banks=False, cutoff=False):\n",
    "    x = channel.x\n",
    "    y = channel.y\n",
    "    \n",
    "    if cutoff:\n",
    "        x = x[0]\n",
    "        y = y[0]\n",
    "    \n",
    "    if banks:\n",
    "        xm, ym = mp.get_channel_banks(x, y, -1)\n",
    "        x = np.reshape(xm, (2, x.size))\n",
    "        y = np.reshape(ym, (2, y.size))\n",
    "\n",
    "    x_pix = (x - xmin) / (xmax - xmin) * width\n",
    "    y_pix = (y - ymin) / (ymax - ymin) * height \n",
    "\n",
    "    if banks:\n",
    "        return [np.stack((x_pix[i], y_pix[i]), axis=1) for i in range(2)]\n",
    "    else:\n",
    "        return np.stack((x_pix, y_pix), axis=1)\n"
   ]
  },
  {
   "cell_type": "code",
   "execution_count": null,
   "id": "ea8a39c4-ee2c-4d3c-80ba-f585d46c984a",
   "metadata": {},
   "outputs": [],
   "source": [
    "op2hex_map = {\n",
    "    100: \"FF\",\n",
    "    95: \"F2\",\n",
    "    90: \"E6\",\n",
    "    85: \"D9\",\n",
    "    80: \"CC\",\n",
    "    75: \"BF\",\n",
    "    70: \"B3\",\n",
    "    65: \"A6\",\n",
    "    60: \"99\",\n",
    "    55: \"8C\",\n",
    "    50: \"80\",\n",
    "    45: \"73\",\n",
    "    40: \"66\",\n",
    "    35: \"59\",\n",
    "    30: \"4D\",\n",
    "    25: \"40\",\n",
    "    20: \"33\",\n",
    "    15: \"26\",\n",
    "    10: \"1A\",\n",
    "    5: \"0D\",\n",
    "    0: \"00\",\n",
    "}\n",
    "\n",
    "\n",
    "def opacity2color(opacity):\n",
    "    if opacity < 0:\n",
    "        opacity = 0\n",
    "    cstr = op2hex_map[5 * round(opacity * 100 / 5)]\n",
    "    return \"#\" + cstr * 3\n",
    "    "
   ]
  },
  {
   "cell_type": "code",
   "execution_count": null,
   "id": "46a62054-12a4-4ddf-97ec-bd433be76ac2",
   "metadata": {},
   "outputs": [],
   "source": [
    "width = 1200\n",
    "height = 400\n",
    "\n",
    "mcanvas = ipycanvas.MultiCanvas(n_canvases=2, width=width, height=height)\n",
    "\n",
    "# background\n",
    "mcanvas[0].fill_style = \"black\"\n",
    "mcanvas[0].rough_fill_style = \"solid\"\n",
    "mcanvas[0].fill_rect(0, 0, width, height)\n"
   ]
  },
  {
   "cell_type": "code",
   "execution_count": null,
   "id": "9d9918f0-51e4-48d9-97b2-c80210fda302",
   "metadata": {},
   "outputs": [],
   "source": [
    "def draw_step(step):\n",
    "    canvas = mcanvas[1]\n",
    "    \n",
    "    current_time = cl_times[step]\n",
    "    \n",
    "    with ipycanvas.hold_canvas(canvas):\n",
    "        canvas.clear()\n",
    "\n",
    "        # draw river banks\n",
    "        max_banks = 20\n",
    "        channel_indices = np.arange(max(0, step - max_banks), step)\n",
    "        channel_opacity = np.linspace(0, 0.8, channel_indices.size)\n",
    "\n",
    "        canvas.line_width = 0.8\n",
    "\n",
    "        for i, idx in enumerate(channel_indices - 1):\n",
    "            canvas.stroke_style = opacity2color(channel_opacity[i])\n",
    "            points = get_points(chb.channels[idx], banks=True)\n",
    "            canvas.stroke_lines(points[0])\n",
    "            canvas.stroke_lines(points[1])\n",
    "\n",
    "        # draw oxbow lakes\n",
    "        tresh = 50  # rel time threshold\n",
    "        rel_time = ct_times - current_time\n",
    "        mask = np.logical_and(rel_time < 0, rel_time > -tresh)\n",
    "        cutoffs = np.array(chb.cutoffs)[mask]\n",
    "        cutoff_opacity = (rel_time[mask] + tresh) / tresh * 0.4\n",
    "\n",
    "        canvas.line_width = 8\n",
    "\n",
    "        for i, cutoff in enumerate(cutoffs):\n",
    "            canvas.stroke_style = opacity2color(cutoff_opacity[i])\n",
    "            points = get_points(cutoff, cutoff=True)\n",
    "            canvas.stroke_lines(points)\n",
    "\n",
    "        # draw main channel\n",
    "        points = get_points(chb.channels[channel_indices[-1]])\n",
    "        canvas.stroke_style = \"white\"\n",
    "        canvas.line_width = 8\n",
    "        canvas.stroke_lines(points)\n"
   ]
  },
  {
   "cell_type": "markdown",
   "id": "1d58c5af-9380-40cb-9c4e-800c924fb0c7",
   "metadata": {},
   "source": [
    "## Setup sound\n",
    "\n",
    "Clip duration:"
   ]
  },
  {
   "cell_type": "code",
   "execution_count": null,
   "id": "d5f59f58-1c89-46ab-91b7-f29544818554",
   "metadata": {},
   "outputs": [],
   "source": [
    "duration = 50"
   ]
  },
  {
   "cell_type": "markdown",
   "id": "950fc23d-d062-4e82-8671-772d37a193da",
   "metadata": {},
   "source": [
    "Monophonic synth used to sonify the main river channel, connected to:\n",
    "\n",
    "- a filter controled by the sinuosity of the main river channel.\n",
    "- a panner controled by the mean y-coordinates of the main river channel."
   ]
  },
  {
   "cell_type": "code",
   "execution_count": null,
   "id": "0c027c35-6da5-4af8-b55b-79524eb4047a",
   "metadata": {},
   "outputs": [],
   "source": [
    "pan = ipytone.Panner()\n",
    "filtr = ipytone.Filter()\n",
    "synth = ipytone.PolySynth(volume=-5)\n",
    "synth.chain(filtr, pan, ipytone.destination)"
   ]
  },
  {
   "cell_type": "code",
   "execution_count": null,
   "id": "cc9d292d-6d07-4083-8aab-fbfd0754ae32",
   "metadata": {},
   "outputs": [],
   "source": [
    "synth.voice.oscillator.type = \"fmsine\"\n",
    "filtr.q.value = 10"
   ]
  },
  {
   "cell_type": "code",
   "execution_count": null,
   "id": "37d5ab61-657a-40e3-b60e-392ebba14923",
   "metadata": {},
   "outputs": [],
   "source": [
    "synth_freqs = np.array(sinuosities) * 4000 - 3900\n",
    "synth_pans = np.array(y_mean) / np.max(np.abs(y_mean)) * -0.5\n",
    "\n",
    "\n",
    "def synth_automation(time):\n",
    "    synth.trigger_attack_release([\"C2\", \"C3\", \"E3\", \"G3\"], duration, time=time)\n",
    "    filtr.frequency.set_value_curve_at_time(synth_freqs, time, duration)\n",
    "    pan.pan.set_value_curve_at_time(synth_pans, time, duration)\n",
    "\n",
    "\n",
    "synth_eid = t.schedule(synth_automation, 0)"
   ]
  },
  {
   "cell_type": "markdown",
   "id": "9d1f20df-0bc6-4833-82a1-3955f3a12e40",
   "metadata": {},
   "source": [
    "Polyphonic synths playing high notes at each river cutoff event (two synths will generate notes on the left and right stereo channels, the synth used will depend on to the position of the cutoff event along the x-axis)."
   ]
  },
  {
   "cell_type": "code",
   "execution_count": null,
   "id": "10b7ff5b-789c-4c35-93a3-0952c90b1f9c",
   "metadata": {},
   "outputs": [],
   "source": [
    "delay = ipytone.FeedbackDelay().to_destination()\n",
    "\n",
    "mpan1 = ipytone.Panner(pan=-0.85)\n",
    "msynth1 = ipytone.PolySynth(volume=-14)\n",
    "msynth1.chain(mpan1, delay)\n",
    "\n",
    "mpan2 = ipytone.Panner(pan=0.85)\n",
    "msynth2 = ipytone.PolySynth(volume=-14)\n",
    "msynth2.chain(mpan2, delay)"
   ]
  },
  {
   "cell_type": "code",
   "execution_count": null,
   "id": "5b335d72-a893-4c9a-a049-e5990b778036",
   "metadata": {},
   "outputs": [],
   "source": [
    "msynth1.voice.oscillator.type = \"sine\"\n",
    "msynth2.voice.oscillator.type = \"sine\"\n",
    "msynth1.voice.envelope.release = 2\n",
    "msynth2.voice.envelope.release = 2"
   ]
  },
  {
   "cell_type": "code",
   "execution_count": null,
   "id": "23a09064-d5ee-47e1-bd69-6807552eaabe",
   "metadata": {},
   "outputs": [],
   "source": [
    "delay.wet.value = 0.2\n",
    "delay.feedback.value = 0.15"
   ]
  },
  {
   "cell_type": "code",
   "execution_count": null,
   "id": "5e08c626-0be9-4139-b95c-d79f2cd9efb3",
   "metadata": {},
   "outputs": [],
   "source": [
    "ct_play_times = ct_times / ct_times[-1] * duration\n",
    "msynth_freqs = np.array(ct_sinuosities) * 100 - 90\n",
    "msynth_pans = np.array(ct_x_mean) / xmax - 0.5"
   ]
  },
  {
   "cell_type": "code",
   "execution_count": null,
   "id": "1db8c0e1-16ac-4eb3-913e-69c7f165a378",
   "metadata": {},
   "outputs": [],
   "source": [
    "def clb1(time, note):\n",
    "    msynth1.trigger_attack_release(note.note, 0.1, time=time)\n",
    "    \n",
    "def clb2(time, note):\n",
    "    msynth2.trigger_attack_release(note.note, 0.1, time=time)"
   ]
  },
  {
   "cell_type": "code",
   "execution_count": null,
   "id": "d3cc6089-aea1-4e70-b244-438c2cf10eb4",
   "metadata": {},
   "outputs": [],
   "source": [
    "A4 = 440\n",
    "C0 = A4 * np.power(2, -4.75)\n",
    "name = [\"C\", \"C#\", \"D\", \"D#\", \"E\", \"F\", \"F#\", \"G\", \"G#\", \"A\", \"A#\", \"B\"]\n",
    "    \n",
    "def pitch_cmaj(freq):\n",
    "    \"\"\"Return a note on the Cmaj scale from any frequency.\"\"\"\n",
    "    h = round(12 * np.log2(freq / C0))\n",
    "    octave = h // 12\n",
    "    n = h % 12\n",
    "    note_cmaj = name[n].replace('#', '')\n",
    "    return note_cmaj + str(octave)\n"
   ]
  },
  {
   "cell_type": "code",
   "execution_count": null,
   "id": "c3d3d83d-3218-4772-8dc6-31d322d70bb6",
   "metadata": {},
   "outputs": [],
   "source": [
    "mpart1 = ipytone.Part(\n",
    "    callback=clb1,\n",
    "    events=[\n",
    "        {\"note\": pitch_cmaj(freq), \"time\": time}\n",
    "        for freq, time, pan in zip(msynth_freqs, ct_play_times, msynth_pans)\n",
    "        if pan < 0\n",
    "    ],\n",
    ")\n",
    "\n",
    "mpart2 = ipytone.Part(\n",
    "    callback=clb2,\n",
    "    events=[\n",
    "        {\"note\": pitch_cmaj(freq), \"time\": time}\n",
    "        for freq, time, pan in zip(msynth_freqs, ct_play_times, msynth_pans)\n",
    "        if pan >= 0\n",
    "    ],\n",
    ")"
   ]
  },
  {
   "cell_type": "markdown",
   "id": "761aba99-f51b-4dc3-8e58-bd8d27faf3dd",
   "metadata": {},
   "source": [
    "Canvas update (more or less) in-sync with the audio."
   ]
  },
  {
   "cell_type": "code",
   "execution_count": null,
   "id": "b8568dd1-88cd-46be-af89-007e6522b839",
   "metadata": {},
   "outputs": [],
   "source": [
    "def update_canvas(change):\n",
    "    time = change[\"new\"]\n",
    "    step = int(time / duration * cl_times.size) \n",
    "    if step == 0:\n",
    "        step = 1\n",
    "    draw_step(step)\n",
    "    "
   ]
  },
  {
   "cell_type": "code",
   "execution_count": null,
   "id": "ae1407cf-8444-4a7b-b345-7eead8f9e1c7",
   "metadata": {},
   "outputs": [],
   "source": [
    "t.schedule_observe(\n",
    "    update_canvas, update_interval=0.05, name=\"seconds\", transport=True\n",
    ")"
   ]
  },
  {
   "cell_type": "markdown",
   "id": "cb93db93-6986-4fc7-9582-73c4f9ff9ead",
   "metadata": {},
   "source": [
    "## Play it!"
   ]
  },
  {
   "cell_type": "code",
   "execution_count": null,
   "id": "6ef25d77-e081-4621-9dc8-ad48332c7964",
   "metadata": {},
   "outputs": [],
   "source": [
    "mcanvas"
   ]
  },
  {
   "cell_type": "code",
   "execution_count": null,
   "id": "2387e117-10e8-41bb-8ce6-ba1da027e296",
   "metadata": {},
   "outputs": [],
   "source": [
    "mpart1.start().stop(f\"+{duration}\")\n",
    "mpart2.start().stop(f\"+{duration}\")\n",
    "t.start().stop(f\"+{duration}\")"
   ]
  },
  {
   "cell_type": "markdown",
   "id": "d269b3d4-4ef8-4fab-8602-ee21a550049f",
   "metadata": {},
   "source": [
    "## Clean-up"
   ]
  },
  {
   "cell_type": "code",
   "execution_count": null,
   "id": "43a32815-9776-49b2-85fa-113aff438fbc",
   "metadata": {},
   "outputs": [],
   "source": [
    "t.schedule_unobserve(update_canvas)"
   ]
  },
  {
   "cell_type": "code",
   "execution_count": null,
   "id": "aad1ae1c-0a35-4b0d-9586-2e8d256c0240",
   "metadata": {},
   "outputs": [],
   "source": [
    "t.cancel()\n",
    "mpart1.dispose()\n",
    "mpart2.dispose()"
   ]
  },
  {
   "cell_type": "code",
   "execution_count": null,
   "id": "7481c69f-e57a-4233-a0a1-f1abeec29ac2",
   "metadata": {},
   "outputs": [],
   "source": [
    "synth.dispose()\n",
    "filtr.dispose()\n",
    "pan.dispose()\n",
    "msynth1.dispose()\n",
    "mpan1.dispose()\n",
    "msynth2.dispose()\n",
    "mpan2.dispose()\n",
    "delay.dispose()"
   ]
  },
  {
   "cell_type": "code",
   "execution_count": null,
   "id": "e6a279ad-dc2e-4eea-b2d2-e6614f7c916d",
   "metadata": {},
   "outputs": [],
   "source": []
  },
  {
   "cell_type": "code",
   "execution_count": null,
   "id": "ae1d98b9-1f71-401a-b726-e1222c833c03",
   "metadata": {},
   "outputs": [],
   "source": [
    "import pickle"
   ]
  },
  {
   "cell_type": "code",
   "execution_count": null,
   "id": "cb8881c5-d495-4b81-b90f-1d2263ae1d59",
   "metadata": {},
   "outputs": [],
   "source": [
    "with open(\"run01.pkl\",\"wb\") as file:\n",
    "    pickle.dump(chb, file)"
   ]
  },
  {
   "cell_type": "code",
   "execution_count": null,
   "id": "6040f2b5-e65a-4b58-985f-1640eb4ee056",
   "metadata": {},
   "outputs": [],
   "source": [
    "with open(r\"run01.pkl\", \"rb\") as file:\n",
    "    chb = pickle.load(file)"
   ]
  },
  {
   "cell_type": "code",
   "execution_count": null,
   "id": "f8e51fa3-fa8d-42d1-8b29-17deebe299b0",
   "metadata": {},
   "outputs": [],
   "source": []
  }
 ],
 "metadata": {
  "kernelspec": {
   "display_name": "Python 3",
   "language": "python",
   "name": "python3"
  },
  "language_info": {
   "codemirror_mode": {
    "name": "ipython",
    "version": 3
   },
   "file_extension": ".py",
   "mimetype": "text/x-python",
   "name": "python",
   "nbconvert_exporter": "python",
   "pygments_lexer": "ipython3",
   "version": "3.8.13"
  }
 },
 "nbformat": 4,
 "nbformat_minor": 5
}

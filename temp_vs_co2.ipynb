{
 "cells": [
  {
   "cell_type": "markdown",
   "id": "75db50b3-91cc-4b26-b304-f1f411ad8bdb",
   "metadata": {},
   "source": [
    "# CO2-concentration vs. air-temperature sonification\n",
    "\n",
    "Using 1750-present global data."
   ]
  },
  {
   "cell_type": "code",
   "execution_count": null,
   "id": "c790d505-3740-4275-86a5-4d997838b42a",
   "metadata": {},
   "outputs": [],
   "source": [
    "import ipytone\n",
    "import numpy as np\n",
    "import pandas as pd\n",
    "import bqplot\n",
    "import bqplot.pyplot as plt"
   ]
  },
  {
   "cell_type": "code",
   "execution_count": null,
   "id": "f5c9ebc2-b290-4e57-adc8-4e62c7b5abfd",
   "metadata": {},
   "outputs": [],
   "source": [
    "t = ipytone.transport"
   ]
  },
  {
   "cell_type": "markdown",
   "id": "e8113f7e-db04-4495-9902-2c86852b8551",
   "metadata": {},
   "source": [
    "## Data"
   ]
  },
  {
   "cell_type": "markdown",
   "id": "51f04fcb-2b14-4ea0-8d50-cb053d6a2434",
   "metadata": {},
   "source": [
    "### Global CO2 concentration data\n",
    "\n",
    "source: https://scrippsco2.ucsd.edu/data/atmospheric_co2/icecore_merged_products.html"
   ]
  },
  {
   "cell_type": "code",
   "execution_count": null,
   "id": "8aa8e67a-a588-4fdf-86f3-91e32cb8068b",
   "metadata": {},
   "outputs": [],
   "source": [
    "scripp_url = \"https://scrippsco2.ucsd.edu/assets/data/\"\n",
    "co2_dataset = \"atmospheric/merged_ice_core_mlo_spo/merged_ice_core_yearly.csv\"\n",
    "\n",
    "df_co2 = (\n",
    "    pd.read_csv(\n",
    "        scripp_url + co2_dataset,\n",
    "        comment='\"',\n",
    "        header=None,\n",
    "        names=[\"date\", \"co2_ppm\"],\n",
    "    )\n",
    "    .assign(date=lambda df: df.date.astype(np.int64))\n",
    "    .drop_duplicates(\"date\")\n",
    "    .set_index(\"date\")\n",
    "    .reindex(np.arange(1760, 2021))\n",
    "    .interpolate()\n",
    "    .dropna()\n",
    ")"
   ]
  },
  {
   "cell_type": "markdown",
   "id": "c7fbb5e8-8f40-4c9f-8b44-bd4f6451877e",
   "metadata": {},
   "source": [
    "### Global temperature data\n",
    "\n",
    "source: http://berkeleyearth.lbl.gov"
   ]
  },
  {
   "cell_type": "code",
   "execution_count": null,
   "id": "32fd3f6a-ea19-40ae-a55d-0edcb4da8aaf",
   "metadata": {},
   "outputs": [],
   "source": [
    "bkearth_url = \"http://berkeleyearth.lbl.gov/auto/Global/\"\n",
    "temp_dataset = \"Complete_TAVG_summary.txt\"\n",
    "\n",
    "df_temp = (\n",
    "    pd.read_csv(\n",
    "        bkearth_url + temp_dataset,\n",
    "        comment=\"%\",\n",
    "        delim_whitespace=True,\n",
    "        header=None,\n",
    "        usecols=[0, 1],\n",
    "        names=[\"date\", \"temp_anomaly\"],\n",
    "        index_col=\"date\",\n",
    "    )\n",
    "    .assign(temp=lambda df: df.temp_anomaly + 8.6)\n",
    ")"
   ]
  },
  {
   "cell_type": "markdown",
   "id": "0e00f393-35d1-4dcb-91af-da78634127be",
   "metadata": {},
   "source": [
    "### Sound synthesis data pre-processing"
   ]
  },
  {
   "cell_type": "code",
   "execution_count": null,
   "id": "b1c5b449-6b2b-4400-98f5-37ddebf210d6",
   "metadata": {},
   "outputs": [],
   "source": [
    "# duration of the audio clip\n",
    "duration = 40.0"
   ]
  },
  {
   "cell_type": "code",
   "execution_count": null,
   "id": "7c422027-0d43-48d5-8ca9-0293b2b085a2",
   "metadata": {},
   "outputs": [],
   "source": [
    "df = df_temp.join(df_co2, how=\"inner\")"
   ]
  },
  {
   "cell_type": "code",
   "execution_count": null,
   "id": "70f31c40-9329-4ba9-bc3d-6189bd62b33d",
   "metadata": {},
   "outputs": [],
   "source": [
    "ppm = df.co2_ppm\n",
    "df[\"co2_freq\"] = (ppm - ppm.min()) / (ppm.max() - ppm.min()) * 1e3 + 200"
   ]
  },
  {
   "cell_type": "code",
   "execution_count": null,
   "id": "07739657-deb7-4702-a29b-c359151197fa",
   "metadata": {},
   "outputs": [],
   "source": [
    "temp = df.temp\n",
    "df[\"temp_freq\"] = (temp - temp.min()) / (temp.max() - temp.min()) * 1e3 + 100"
   ]
  },
  {
   "cell_type": "code",
   "execution_count": null,
   "id": "f0a40aec-b53a-452b-bf68-b1855bd4e953",
   "metadata": {},
   "outputs": [],
   "source": [
    "rand01 = np.random.uniform(size=df.index.size)\n",
    "df[\"temp_vel\"] = np.where(rand01 > 0.5, 1, 0)"
   ]
  },
  {
   "cell_type": "code",
   "execution_count": null,
   "id": "e29198cc-c994-4b80-bf85-27917017922e",
   "metadata": {},
   "outputs": [],
   "source": [
    "date = df.index\n",
    "df[\"play_time\"] = (date - date[0]) / (date[-1] - date[0]) * duration"
   ]
  },
  {
   "cell_type": "markdown",
   "id": "528379e9-73b4-4a4b-b702-e5e7c12e4ac6",
   "metadata": {},
   "source": [
    "## Sound setup "
   ]
  },
  {
   "cell_type": "markdown",
   "id": "eed63c46-2c38-4f94-b375-d7611bdc84c8",
   "metadata": {},
   "source": [
    "### CO2 synthesizer"
   ]
  },
  {
   "cell_type": "code",
   "execution_count": null,
   "id": "3ef4218f-8e4e-4c92-9e6d-fd2c1358a5c6",
   "metadata": {},
   "outputs": [],
   "source": [
    "reverb = ipytone.Reverb(decay=7)\n",
    "delay1 = ipytone.FeedbackDelay()\n",
    "vibrato = ipytone.Vibrato()\n",
    "co2_synth = ipytone.FMSynth().chain(\n",
    "    vibrato, delay1, reverb, ipytone.destination\n",
    ")"
   ]
  },
  {
   "cell_type": "code",
   "execution_count": null,
   "id": "3fdbc1e2-f62b-4c85-95e4-0b62f4df6e54",
   "metadata": {},
   "outputs": [],
   "source": [
    "co2_synth.oscillator.type = \"sine2\"\n",
    "co2_synth.modulation.type = \"square\"\n",
    "co2_synth.harmonicity.value = 2\n",
    "co2_synth.modulation_index.value = 1.5\n",
    "delay1.wet.value = 0.3\n",
    "delay1.delay_time.value = 0.15\n",
    "delay1.feedback.value = 0.5\n",
    "reverb.wet.value = 0.4\n",
    "vibrato.wet.value = 0.5\n",
    "vibrato.frequency.value = 3.5\n",
    "vibrato.depth.value = 0.25"
   ]
  },
  {
   "cell_type": "code",
   "execution_count": null,
   "id": "ce0c248d-7ddf-46d1-9edd-6b3ff1efd739",
   "metadata": {},
   "outputs": [],
   "source": [
    "def play_synth(time):\n",
    "    co2_synth.trigger_attack_release(df.co2_freq.iloc[0], duration, time=time)\n",
    "    co2_synth.frequency.set_value_curve_at_time(\n",
    "        list(df.co2_freq), time, duration\n",
    "    )\n",
    "\n",
    "co2_synth_eid = t.schedule(play_synth, 0)"
   ]
  },
  {
   "cell_type": "markdown",
   "id": "b0c371bd-fb69-42e5-9552-3955941fc4fc",
   "metadata": {},
   "source": [
    "### Temperature synthesizer"
   ]
  },
  {
   "cell_type": "code",
   "execution_count": null,
   "id": "15defcc7-988c-4e78-afb2-2459fc7b6a67",
   "metadata": {},
   "outputs": [],
   "source": [
    "delay = ipytone.PingPongDelay(\n",
    "    delay_time=0.4, feedback=0.3, number_of_channels=2\n",
    ")\n",
    "vibrato2 = ipytone.Vibrato()\n",
    "synth_temp = ipytone.PolySynth(volume=-12)\n",
    "synth_temp.chain(delay, vibrato2, ipytone.destination)"
   ]
  },
  {
   "cell_type": "code",
   "execution_count": null,
   "id": "cbf2e3d8-57c0-40bc-8057-3897c49f902f",
   "metadata": {},
   "outputs": [],
   "source": [
    "delay.delay_time.value = 0.13\n",
    "delay.feedback.value = 0.7\n",
    "delay.wet.value = 0.1\n",
    "\n",
    "vibrato2.wet.value = 0.9\n",
    "vibrato2.frequency.value = 2\n",
    "vibrato2.depth.value = 1\n",
    "\n",
    "synth_temp.voice.envelope.attack = 0.015\n",
    "synth_temp.voice.envelope.decay = 0.01\n",
    "synth_temp.voice.oscillator.type = \"pulse\"\n",
    "synth_temp.voice.detune.value = -2000"
   ]
  },
  {
   "cell_type": "code",
   "execution_count": null,
   "id": "cb8823cd-efc2-443f-be2d-b4073e1a07f9",
   "metadata": {},
   "outputs": [],
   "source": [
    "def clb(time, note):\n",
    "    synth_temp.trigger_attack_release(\n",
    "        note.note, 0.03, time=time, velocity=note.velocity\n",
    "    )"
   ]
  },
  {
   "cell_type": "code",
   "execution_count": null,
   "id": "82ecd506-2edf-4e48-bc69-3e600b63bcd5",
   "metadata": {},
   "outputs": [],
   "source": [
    "part = ipytone.Part(\n",
    "    callback=clb,\n",
    "    events=[\n",
    "        {\n",
    "            \"note\": r.temp_freq,\n",
    "            \"velocity\": r.temp_vel,\n",
    "            \"time\": r.play_time + np.random.uniform(-0.1, 0.1),\n",
    "        }\n",
    "        for _, r in df.iterrows()\n",
    "    ]\n",
    ")"
   ]
  },
  {
   "cell_type": "code",
   "execution_count": null,
   "id": "822c60f4-8aba-4825-a16b-932907762073",
   "metadata": {},
   "outputs": [],
   "source": [
    "part.start()"
   ]
  },
  {
   "cell_type": "markdown",
   "id": "ac3e0daa-d5a8-4ac1-a448-a762ec94e7c9",
   "metadata": {},
   "source": [
    "## Figure"
   ]
  },
  {
   "cell_type": "code",
   "execution_count": null,
   "id": "964ba41c-9617-4981-95d8-d0fdcffa22e6",
   "metadata": {},
   "outputs": [],
   "source": [
    "sc_x = bqplot.LinearScale()\n",
    "sc_y = bqplot.LinearScale()\n",
    "scales = {\"x\": sc_x, \"y\": sc_y}\n",
    "\n",
    "lines = bqplot.Lines(\n",
    "    x=df.index, y=df.co2_ppm,\n",
    "    scales=scales\n",
    ")\n",
    "lines.stroke_width = 4\n",
    "lines.colors = [\"red\"]\n",
    "\n",
    "vline_mark = plt.vline(df.index[0], scales=scales)\n",
    "vline_mark.colors = [\"black\"]\n",
    "\n",
    "ax_x = bqplot.Axis(scale=sc_x, label=\"Year\")\n",
    "ax_y = bqplot.Axis(\n",
    "    scale=sc_y, orientation=\"vertical\", label=\"CO2 concentration [ppm]\"\n",
    ")\n",
    "\n",
    "fig = bqplot.Figure(marks=[lines, vline_mark], axes=[ax_x, ax_y])\n",
    "fig.layout.width = \"600px\""
   ]
  },
  {
   "cell_type": "markdown",
   "id": "7f071504-ef94-4273-a234-10ee29413e12",
   "metadata": {},
   "source": [
    "Show current position along the x-axis:"
   ]
  },
  {
   "cell_type": "code",
   "execution_count": null,
   "id": "aee0d6ec-f256-4f9c-ac06-ce28289455b4",
   "metadata": {},
   "outputs": [],
   "source": [
    "date_range = df.index[-1] - df.index[0]\n",
    "\n",
    "def move_vline(change):\n",
    "    time = change[\"new\"]\n",
    "    date = time / duration * date_range + df.index[0]\n",
    "    vline_mark.x = [date, date]\n"
   ]
  },
  {
   "cell_type": "code",
   "execution_count": null,
   "id": "6f6ae967-a0c6-4427-8830-b28d60611c8b",
   "metadata": {},
   "outputs": [],
   "source": [
    "t.schedule_observe(\n",
    "    move_vline, update_interval=0.1, name=\"seconds\", transport=True\n",
    ")"
   ]
  },
  {
   "cell_type": "markdown",
   "id": "b3e80a9e-ea34-4013-8d9d-875735cb469c",
   "metadata": {},
   "source": [
    "Show figure and start sound:"
   ]
  },
  {
   "cell_type": "code",
   "execution_count": null,
   "id": "8c5b5d65-1b56-411f-89f8-c5e432c879be",
   "metadata": {},
   "outputs": [],
   "source": [
    "fig"
   ]
  },
  {
   "cell_type": "code",
   "execution_count": null,
   "id": "c9436e15-2719-4837-8455-afbf0716a380",
   "metadata": {},
   "outputs": [],
   "source": [
    "t.start().stop(\"+40\")"
   ]
  },
  {
   "cell_type": "markdown",
   "id": "b95dd615-b4d9-4c51-843d-d431342dd7ff",
   "metadata": {},
   "source": [
    "## Clean-up"
   ]
  },
  {
   "cell_type": "code",
   "execution_count": null,
   "id": "cc7792d1-1b08-4882-99a8-3f0d21246aa8",
   "metadata": {},
   "outputs": [],
   "source": [
    "t.clear(co2_synth_eid)\n",
    "t.cancel(0)\n",
    "t.schedule_unobserve(move_vline)"
   ]
  },
  {
   "cell_type": "code",
   "execution_count": null,
   "id": "26f7891e-326d-4f96-a3ee-157bca5ba0a5",
   "metadata": {},
   "outputs": [],
   "source": [
    "part.dispose()\n",
    "co2_synth.dispose()\n",
    "synth_temp.dispose()\n",
    "vibrato.dispose()\n",
    "delay1.dispose()\n",
    "reverb.dispose()\n",
    "delay.dispose()\n",
    "vibrato2.dispose()"
   ]
  },
  {
   "cell_type": "code",
   "execution_count": null,
   "id": "ea9a9214-9f6d-4712-8559-25e4ae866b40",
   "metadata": {},
   "outputs": [],
   "source": []
  }
 ],
 "metadata": {
  "kernelspec": {
   "display_name": "Python 3",
   "language": "python",
   "name": "python3"
  },
  "language_info": {
   "codemirror_mode": {
    "name": "ipython",
    "version": 3
   },
   "file_extension": ".py",
   "mimetype": "text/x-python",
   "name": "python",
   "nbconvert_exporter": "python",
   "pygments_lexer": "ipython3",
   "version": "3.8.2"
  }
 },
 "nbformat": 4,
 "nbformat_minor": 5
}
